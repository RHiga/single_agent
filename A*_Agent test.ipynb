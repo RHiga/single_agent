{
 "cells": [
  {
   "cell_type": "markdown",
   "metadata": {},
   "source": [
    "# A-Star Agent"
   ]
  },
  {
   "cell_type": "markdown",
   "metadata": {},
   "source": [
    "> http://ktiml.mff.cuni.cz/~bartak/AAAI2019/"
   ]
  },
  {
   "cell_type": "code",
   "execution_count": 1,
   "metadata": {},
   "outputs": [],
   "source": [
    "%matplotlib inline\n",
    "import matplotlib.pyplot as plt\n",
    "from matplotlib.animation import FuncAnimation\n",
    "from matplotlib.animation import PillowWriter\n",
    "from IPython.display import HTML\n",
    "import networkx as nx\n",
    "import numpy as np"
   ]
  },
  {
   "cell_type": "code",
   "execution_count": 2,
   "metadata": {},
   "outputs": [
    {
     "data": {
      "image/png": "[encoded data removed]",
      "text/plain": [
       "<Figure size 432x288 with 1 Axes>"
      ]
     },
     "metadata": {},
     "output_type": "display_data"
    }
   ],
   "source": [
    "# dim x, y\n",
    "G = nx.grid_graph(dim=[3, 4])\n",
    "nx.draw_networkx(G)\n",
    "plt.show()"
   ]
  },
  {
   "cell_type": "code",
   "execution_count": 3,
   "metadata": {},
   "outputs": [],
   "source": [
    "path = nx.astar_path(G, (0, 0), (3, 0))"
   ]
  },
  {
   "cell_type": "code",
   "execution_count": 4,
   "metadata": {},
   "outputs": [
    {
     "data": {
      "text/plain": [
       "[(0, 0), (1, 0), (2, 0), (3, 0)]"
      ]
     },
     "execution_count": 4,
     "metadata": {},
     "output_type": "execute_result"
    }
   ],
   "source": [
    "path"
   ]
  },
  {
   "cell_type": "code",
   "execution_count": 5,
   "metadata": {},
   "outputs": [],
   "source": [
    "nx.set_edge_attributes(G, 1, \"cost\")"
   ]
  },
  {
   "cell_type": "code",
   "execution_count": 6,
   "metadata": {},
   "outputs": [
    {
     "data": {
      "text/plain": [
       "[(0, 0), (1, 0), (2, 0), (3, 0)]"
      ]
     },
     "execution_count": 6,
     "metadata": {},
     "output_type": "execute_result"
    }
   ],
   "source": [
    "nx.astar_path(G, (0, 0), (3, 0), weight=\"cost\")"
   ]
  },
  {
   "cell_type": "code",
   "execution_count": 7,
   "metadata": {},
   "outputs": [
    {
     "data": {
      "text/plain": [
       "EdgeDataView([((0, 0), (1, 0), {'cost': 1}), ((0, 0), (0, 1), {'cost': 1}), ((0, 1), (1, 1), {'cost': 1}), ((0, 1), (0, 2), {'cost': 1}), ((0, 2), (1, 2), {'cost': 1}), ((1, 0), (2, 0), {'cost': 1}), ((1, 0), (1, 1), {'cost': 1}), ((1, 1), (2, 1), {'cost': 1}), ((1, 1), (1, 2), {'cost': 1}), ((1, 2), (2, 2), {'cost': 1}), ((2, 0), (3, 0), {'cost': 1}), ((2, 0), (2, 1), {'cost': 1}), ((2, 1), (3, 1), {'cost': 1}), ((2, 1), (2, 2), {'cost': 1}), ((2, 2), (3, 2), {'cost': 1}), ((3, 0), (3, 1), {'cost': 1}), ((3, 1), (3, 2), {'cost': 1})])"
      ]
     },
     "execution_count": 7,
     "metadata": {},
     "output_type": "execute_result"
    }
   ],
   "source": [
    "G.edges(data=True)"
   ]
  },
  {
   "cell_type": "code",
   "execution_count": 8,
   "metadata": {},
   "outputs": [
    {
     "name": "stdout",
     "output_type": "stream",
     "text": [
      "((0, 0), (1, 0), {'cost': 1})\n",
      "((0, 0), (0, 1), {'cost': 1})\n"
     ]
    }
   ],
   "source": [
    "a, b = G.edges((0,0), data=True)\n",
    "print(a)\n",
    "print(b)"
   ]
  },
  {
   "cell_type": "code",
   "execution_count": 9,
   "metadata": {},
   "outputs": [
    {
     "name": "stdout",
     "output_type": "stream",
     "text": [
      "(1, 0)\n",
      "(0, 0)\n",
      "{'cost': 10}\n",
      "(1, 0)\n",
      "(2, 0)\n",
      "{'cost': 10}\n",
      "(1, 0)\n",
      "(1, 1)\n",
      "{'cost': 10}\n"
     ]
    }
   ],
   "source": [
    "x, y = [1, 0]\n",
    "nx.set_edge_attributes(G, 1, \"cost\")\n",
    "for u, v, d in G.edges((x, y), data=True):\n",
    "    d[\"cost\"] = 10\n",
    "    print(u)\n",
    "    print(v)\n",
    "    print(d)"
   ]
  },
  {
   "cell_type": "code",
   "execution_count": 10,
   "metadata": {},
   "outputs": [
    {
     "data": {
      "text/plain": [
       "[(0, 0), (0, 1), (1, 1), (2, 1), (2, 0), (3, 0)]"
      ]
     },
     "execution_count": 10,
     "metadata": {},
     "output_type": "execute_result"
    }
   ],
   "source": [
    "nx.astar_path(G, (0, 0), (3, 0), weight=\"cost\")"
   ]
  },
  {
   "cell_type": "code",
   "execution_count": 11,
   "metadata": {},
   "outputs": [],
   "source": [
    "grid = [\n",
    "    [0, 0, 0],\n",
    "    [0, 0, 0],\n",
    "    [0, 0, 0]\n",
    "       ]"
   ]
  },
  {
   "cell_type": "code",
   "execution_count": 12,
   "metadata": {},
   "outputs": [
    {
     "name": "stdout",
     "output_type": "stream",
     "text": [
      "3 3\n"
     ]
    }
   ],
   "source": [
    "g_row, g_column = np.shape(grid)\n",
    "print(g_row, g_column)"
   ]
  },
  {
   "cell_type": "code",
   "execution_count": 13,
   "metadata": {},
   "outputs": [
    {
     "data": {
      "image/png": "[encoded data removed]",
      "text/plain": [
       "<Figure size 432x288 with 1 Axes>"
      ]
     },
     "metadata": {},
     "output_type": "display_data"
    }
   ],
   "source": [
    "G = nx.grid_graph(dim=[g_row, g_column])\n",
    "nx.draw_networkx(G)\n",
    "nx.set_edge_attributes(G, 1, \"cost\")\n",
    "plt.show()"
   ]
  },
  {
   "cell_type": "markdown",
   "metadata": {},
   "source": [
    "# Add cost function"
   ]
  },
  {
   "cell_type": "code",
   "execution_count": 14,
   "metadata": {},
   "outputs": [],
   "source": [
    "for a, b in enumerate(grid):\n",
    "    for c, d in enumerate(b):\n",
    "        if d == 9:\n",
    "            print(a, c)\n",
    "            for u, v, d in G.edges((a, c), data=True):\n",
    "                d[\"cost\"] = 10\n",
    "                print(u, v)"
   ]
  },
  {
   "cell_type": "code",
   "execution_count": 15,
   "metadata": {},
   "outputs": [
    {
     "data": {
      "text/plain": [
       "[(2, 0), (1, 0), (0, 0), (0, 1), (0, 2)]"
      ]
     },
     "execution_count": 15,
     "metadata": {},
     "output_type": "execute_result"
    }
   ],
   "source": [
    "a_start = (2, 0)\n",
    "a_goal = (0, 2)\n",
    "nx.astar_path(G, a_start, a_goal, weight=\"cost\")"
   ]
  },
  {
   "cell_type": "markdown",
   "metadata": {},
   "source": [
    "# Del node type"
   ]
  },
  {
   "cell_type": "code",
   "execution_count": 16,
   "metadata": {},
   "outputs": [],
   "source": [
    "G = nx.grid_graph(dim=[g_row, g_column])\n",
    "for a, b in enumerate(grid):\n",
    "    for c, d in enumerate(b):\n",
    "        if d == 9:\n",
    "            print(a, c)\n",
    "            G.remove_node((a, c))"
   ]
  },
  {
   "cell_type": "code",
   "execution_count": 17,
   "metadata": {},
   "outputs": [
    {
     "data": {
      "image/png": "[encoded data removed]",
      "text/plain": [
       "<Figure size 432x288 with 1 Axes>"
      ]
     },
     "metadata": {},
     "output_type": "display_data"
    }
   ],
   "source": [
    "nx.draw_networkx(G)\n",
    "plt.show()"
   ]
  },
  {
   "cell_type": "code",
   "execution_count": 18,
   "metadata": {},
   "outputs": [
    {
     "data": {
      "text/plain": [
       "EdgeDataView([((0, 0), (1, 0), {}), ((0, 0), (0, 1), {}), ((0, 1), (1, 1), {}), ((0, 1), (0, 2), {}), ((0, 2), (1, 2), {}), ((1, 0), (2, 0), {}), ((1, 0), (1, 1), {}), ((1, 1), (2, 1), {}), ((1, 1), (1, 2), {}), ((1, 2), (2, 2), {}), ((2, 0), (2, 1), {}), ((2, 1), (2, 2), {})])"
      ]
     },
     "execution_count": 18,
     "metadata": {},
     "output_type": "execute_result"
    }
   ],
   "source": [
    "G.edges(data=True)"
   ]
  },
  {
   "cell_type": "code",
   "execution_count": 19,
   "metadata": {},
   "outputs": [
    {
     "data": {
      "text/plain": [
       "[(2, 0), (1, 0), (0, 0), (0, 1), (0, 2)]"
      ]
     },
     "execution_count": 19,
     "metadata": {},
     "output_type": "execute_result"
    }
   ],
   "source": [
    "a_start = (2, 0)\n",
    "a_goal = (0, 2)\n",
    "nx.astar_path(G, a_start, a_goal)"
   ]
  },
  {
   "cell_type": "code",
   "execution_count": 20,
   "metadata": {},
   "outputs": [],
   "source": [
    "G.clear()"
   ]
  },
  {
   "cell_type": "markdown",
   "metadata": {},
   "source": [
    "# A* path generation"
   ]
  },
  {
   "cell_type": "code",
   "execution_count": 21,
   "metadata": {},
   "outputs": [],
   "source": [
    "import networkx as nx\n",
    "import numpy as np\n",
    "\n",
    "def aster_path(grid, start, goal):\n",
    "    g_row, g_column = np.shape(grid)\n",
    "    \n",
    "    # dim[x_axis, y_axis], x_axis = g_column\n",
    "    G = nx.grid_graph(dim=[g_column, g_row])\n",
    "    \n",
    "    for _a, _b in enumerate(grid):\n",
    "        for _c, _d in enumerate(_b):\n",
    "            # remove obstacle node frome nodes\n",
    "            if _d == 9:\n",
    "                G.remove_node((_a, _c))\n",
    "    \n",
    "    path = nx.astar_path(G, tuple(start), tuple(goal))\n",
    "    \n",
    "    return [list(e) for e in path]"
   ]
  },
  {
   "cell_type": "code",
   "execution_count": 22,
   "metadata": {},
   "outputs": [],
   "source": [
    "a_start = [0, 0]\n",
    "a_goal = [2, 4]\n",
    "grid = [\n",
    "    [0, 0, 0, 0, 0],\n",
    "    [9, 0, 9, 0, 9],\n",
    "    [0, 0, 9, 0, 0]\n",
    "       ]\n",
    "path = aster_path(grid, a_start, a_goal)"
   ]
  },
  {
   "cell_type": "code",
   "execution_count": 23,
   "metadata": {},
   "outputs": [],
   "source": [
    "def astar_action(path):\n",
    "    a_star_path = np.array(path)\n",
    "    step = 0\n",
    "    if ((a_star_path[step] + [-1, 0]) == a_star_path[step+1]).all():\n",
    "        return 0\n",
    "    elif ((a_star_path[step] + [1, 0]) == a_star_path[step+1]).all():\n",
    "        return 1\n",
    "    elif ((a_star_path[step] + [0, -1]) == a_star_path[step+1]).all():\n",
    "        return 2\n",
    "    elif ((a_star_path[step] + [0, 1]) == a_star_path[step+1]).all():\n",
    "        return 3"
   ]
  },
  {
   "cell_type": "code",
   "execution_count": 24,
   "metadata": {},
   "outputs": [
    {
     "name": "stdout",
     "output_type": "stream",
     "text": [
      "[[0, 0], [0, 1], [0, 2], [0, 3], [1, 3], [2, 3], [2, 4]]\n",
      "3\n",
      "[0, 0]\n",
      "[0, 1]\n",
      "[0, 2]\n",
      "[0, 3]\n",
      "[1, 3]\n",
      "[2, 3]\n",
      "[2, 4]\n"
     ]
    }
   ],
   "source": [
    "print(path)\n",
    "print(astar_action(path))\n",
    "\n",
    "for _ in path:\n",
    "    print(_)"
   ]
  },
  {
   "cell_type": "code",
   "execution_count": 32,
   "metadata": {},
   "outputs": [],
   "source": [
    "import networkx as nx\n",
    "import numpy as np\n",
    "\n",
    "class Astar_Agent():\n",
    "    \n",
    "    def __init__(self, grid, start, goal):\n",
    "        \n",
    "        self.grid = grid\n",
    "        self.start = start\n",
    "        self.goal = goal\n",
    "        self.g_row, self.g_column = np.shape(self.grid)\n",
    "        self.path = self.astar_path()\n",
    "        self.step = 0\n",
    "        self.rev_step = len(self.path)\n",
    "    \n",
    "    \n",
    "    def dist(self, a, b):\n",
    "        x1 = np.array(a, dtype=np.float32)\n",
    "        x2 = np.array(b, dtype=np.float32)\n",
    "        return np.linalg.norm(x1 - x2, ord=1)\n",
    "        \n",
    "    \n",
    "    def astar_path(self):\n",
    "        \n",
    "        # dim[x_axis, y_axis], x_axis = g_column\n",
    "        G = nx.grid_graph(dim=[self.g_column, self.g_row])\n",
    "    \n",
    "        for _a, _b in enumerate(self.grid):\n",
    "            for _c, _d in enumerate(_b):\n",
    "                # remove obstacle node frome nodes\n",
    "                if _d == 9:\n",
    "                    G.remove_node((_a, _c))       \n",
    "        \n",
    "        path = nx.astar_path(G, tuple(self.start), tuple(self.goal), heuristic=self.dist)\n",
    "        self.path = [list(e) for e in path]\n",
    "        return self.path\n",
    "\n",
    "    def action(self):\n",
    "        a_star_path = np.array(self.path)\n",
    "        \n",
    "        if((a_star_path[self.rev_step-1] == self.start)).all():\n",
    "            self.step = 0\n",
    "            self.rev_step = len(self.path)\n",
    "           \n",
    "        if self.step < len(self.path)-1:\n",
    "            self.step += 1\n",
    "        \n",
    "            if ((a_star_path[self.step-1] + [-1, 0]) == a_star_path[self.step]).all():\n",
    "                return 0\n",
    "            elif ((a_star_path[self.step-1] + [1, 0]) == a_star_path[self.step]).all():\n",
    "                return 1\n",
    "            elif ((a_star_path[self.step-1] + [0, -1]) == a_star_path[self.step]).all():\n",
    "                return 2\n",
    "            elif ((a_star_path[self.step-1] + [0, 1]) == a_star_path[self.step]).all():\n",
    "                return 3\n",
    "        \n",
    "        if self.step >= len(self.path)-1:\n",
    "            self.step += 1\n",
    "            self.rev_step -= 1\n",
    "            if ((a_star_path[self.rev_step] + [-1, 0]) == a_star_path[self.rev_step-1]).all():\n",
    "                return 0\n",
    "            elif ((a_star_path[self.rev_step] + [1, 0]) == a_star_path[self.rev_step-1]).all():\n",
    "                return 1\n",
    "            elif ((a_star_path[self.rev_step] + [0, -1]) == a_star_path[self.rev_step-1]).all():\n",
    "                return 2\n",
    "            elif ((a_star_path[self.rev_step] + [0, 1]) == a_star_path[self.rev_step-1]).all():\n",
    "                return 3"
   ]
  },
  {
   "cell_type": "code",
   "execution_count": 33,
   "metadata": {},
   "outputs": [],
   "source": [
    "def dist(a, b):\n",
    "    x1 = np.array(a, dtype=np.float32)\n",
    "    x2 = np.array(b, dtype=np.float32)\n",
    "    return np.linalg.norm(x1 - x2, ord=1)"
   ]
  },
  {
   "cell_type": "code",
   "execution_count": 34,
   "metadata": {},
   "outputs": [
    {
     "data": {
      "text/plain": [
       "6.0"
      ]
     },
     "execution_count": 34,
     "metadata": {},
     "output_type": "execute_result"
    }
   ],
   "source": [
    "dist([0, 0],[2, 4])"
   ]
  },
  {
   "cell_type": "code",
   "execution_count": 35,
   "metadata": {},
   "outputs": [
    {
     "name": "stdout",
     "output_type": "stream",
     "text": [
      "[[0, 0], [1, 0], [1, 1], [1, 2], [0, 2], [0, 3], [0, 4], [1, 4], [2, 4]]\n"
     ]
    }
   ],
   "source": [
    "a_start = [0, 0]\n",
    "a_goal = [2, 4]\n",
    "grid = [\n",
    "    [0, 9, 0, 0, 0],\n",
    "    [0, 0, 0, 9, 0],\n",
    "    [9, 0, 0, 9, 0]\n",
    "    ]\n",
    "class_test = Astar_Agent(grid, a_start, a_goal)\n",
    "print(class_test.path)"
   ]
  },
  {
   "cell_type": "code",
   "execution_count": 29,
   "metadata": {},
   "outputs": [
    {
     "name": "stdout",
     "output_type": "stream",
     "text": [
      "1\n",
      "3\n",
      "3\n",
      "0\n",
      "3\n",
      "3\n",
      "1\n",
      "1\n",
      "0\n",
      "0\n",
      "2\n",
      "2\n",
      "1\n",
      "2\n",
      "2\n",
      "0\n",
      "1\n",
      "3\n",
      "3\n",
      "0\n",
      "3\n",
      "3\n",
      "1\n",
      "1\n",
      "0\n",
      "0\n",
      "2\n",
      "2\n",
      "1\n",
      "2\n",
      "2\n",
      "0\n",
      "1\n",
      "3\n",
      "3\n",
      "0\n",
      "3\n",
      "3\n",
      "1\n",
      "1\n",
      "0\n",
      "0\n",
      "2\n",
      "2\n",
      "1\n",
      "2\n",
      "2\n",
      "0\n",
      "1\n",
      "3\n",
      "3\n",
      "0\n",
      "3\n",
      "3\n",
      "1\n",
      "1\n",
      "0\n",
      "0\n",
      "2\n",
      "2\n",
      "1\n",
      "2\n",
      "2\n",
      "0\n",
      "1\n",
      "3\n",
      "3\n",
      "0\n",
      "3\n",
      "3\n",
      "1\n",
      "1\n",
      "0\n",
      "0\n",
      "2\n",
      "2\n",
      "1\n",
      "2\n",
      "2\n",
      "0\n",
      "1\n",
      "3\n",
      "3\n",
      "0\n",
      "3\n",
      "3\n",
      "1\n",
      "1\n",
      "0\n",
      "0\n",
      "2\n",
      "2\n",
      "1\n",
      "2\n",
      "2\n",
      "0\n",
      "1\n",
      "3\n",
      "3\n",
      "0\n"
     ]
    }
   ],
   "source": [
    "for _ in range(100):\n",
    "    print(class_test.action())"
   ]
  },
  {
   "cell_type": "markdown",
   "metadata": {},
   "source": [
    "# CBS package test"
   ]
  },
  {
   "cell_type": "code",
   "execution_count": 30,
   "metadata": {},
   "outputs": [],
   "source": [
    "from cbs_mapf.planner import Planner\n",
    "#planner=Planner(grid_size=1, robot_radius= 1, static_obstacles = [(1, 2), (20, 20)])\n",
    "planner=Planner(grid_size=1, robot_radius= 1, static_obstacles = [(0, 0), (5, 6), (10, 20)])"
   ]
  },
  {
   "cell_type": "code",
   "execution_count": 31,
   "metadata": {},
   "outputs": [
    {
     "name": "stdout",
     "output_type": "stream",
     "text": [
      "STA*: Path found after 9 iterations\n",
      "CBS_MAPF: Paths found after about 4 iterations\n",
      "[[[2 2]\n",
      "  [3 3]\n",
      "  [4 4]\n",
      "  [5 4]\n",
      "  [6 4]\n",
      "  [7 5]\n",
      "  [8 6]\n",
      "  [8 7]\n",
      "  [8 8]]]\n"
     ]
    }
   ],
   "source": [
    "print(planner.plan(starts=[(2, 2)],\n",
    "    goals=[(8, 8)],\n",
    "    debug=True))"
   ]
  },
  {
   "cell_type": "code",
   "execution_count": null,
   "metadata": {},
   "outputs": [],
   "source": []
  }
 ],
 "metadata": {
  "kernelspec": {
   "display_name": "Python 3",
   "language": "python",
   "name": "python3"
  },
  "language_info": {
   "codemirror_mode": {
    "name": "ipython",
    "version": 3
   },
   "file_extension": ".py",
   "mimetype": "text/x-python",
   "name": "python",
   "nbconvert_exporter": "python",
   "pygments_lexer": "ipython3",
   "version": "3.7.4"
  }
 },
 "nbformat": 4,
 "nbformat_minor": 2
}
